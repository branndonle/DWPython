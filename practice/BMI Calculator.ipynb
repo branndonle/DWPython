{
 "cells": [
  {
   "cell_type": "code",
   "execution_count": 14,
   "id": "3dcf36ad",
   "metadata": {},
   "outputs": [
    {
     "name": "stdout",
     "output_type": "stream",
     "text": [
      "Enter your weight in pounds: 170\n",
      "Enter your height in inches: 69\n"
     ]
    }
   ],
   "source": [
    "weight = int(input(\"Enter your weight in pounds: \"))\n",
    "\n",
    "height = int(input(\"Enter your height in inches: \"))"
   ]
  },
  {
   "cell_type": "code",
   "execution_count": 21,
   "id": "0142518f",
   "metadata": {},
   "outputs": [],
   "source": [
    "def bmi_calculator(weight, height):\n",
    "    bmi = (weight * 703) / (height ** 2)\n",
    "    \n",
    "    print('Your bmi is: ', bmi, '.')\n",
    "    if bmi > 0:\n",
    "        if (bmi < 15):\n",
    "            print('You are very severely underweight.')\n",
    "        elif(bmi >= 15) and (bmi <= 16):\n",
    "            print('You are severely underweight.')\n",
    "        elif(bmi >= 16) and (bmi <= 18.5):\n",
    "            print('You are underweight.')\n",
    "        elif(bmi >= 18.5) and (bmi <= 25):\n",
    "            print('You have a normal weight(healthy).')\n",
    "        elif(bmi >=25) and (bmi <= 30):\n",
    "            print('You are slightly overweight.')\n",
    "        elif(bmi >= 30) and (bmi <= 35):\n",
    "            print('You are moderately obese.')\n",
    "        elif(bmi >= 35) and (bmi <= 40):\n",
    "            print('You are severely obese.')\n",
    "        else:\n",
    "            print('You are very severely obese.')\n",
    "    \n",
    "    \n",
    "    \n",
    "    "
   ]
  },
  {
   "cell_type": "code",
   "execution_count": 22,
   "id": "f5d9b89f",
   "metadata": {},
   "outputs": [
    {
     "name": "stdout",
     "output_type": "stream",
     "text": [
      "Your bmi is:  25.101869355177485 .\n",
      "You are slightly overweight.\n"
     ]
    }
   ],
   "source": [
    "bmi_calculator(weight, height)"
   ]
  }
 ],
 "metadata": {
  "kernelspec": {
   "display_name": "Python 3 (ipykernel)",
   "language": "python",
   "name": "python3"
  },
  "language_info": {
   "codemirror_mode": {
    "name": "ipython",
    "version": 3
   },
   "file_extension": ".py",
   "mimetype": "text/x-python",
   "name": "python",
   "nbconvert_exporter": "python",
   "pygments_lexer": "ipython3",
   "version": "3.11.4"
  }
 },
 "nbformat": 4,
 "nbformat_minor": 5
}
