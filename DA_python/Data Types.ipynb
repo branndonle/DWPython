{
 "cells": [
  {
   "cell_type": "markdown",
   "id": "ff1f04c5",
   "metadata": {},
   "source": [
    "# Numeric Data"
   ]
  },
  {
   "cell_type": "code",
   "execution_count": 2,
   "id": "4b98b54b",
   "metadata": {},
   "outputs": [
    {
     "data": {
      "text/plain": [
       "float"
      ]
     },
     "execution_count": 2,
     "metadata": {},
     "output_type": "execute_result"
    }
   ],
   "source": [
    "type(12 + 10.25)"
   ]
  },
  {
   "cell_type": "code",
   "execution_count": 6,
   "id": "292c8ed4",
   "metadata": {},
   "outputs": [
    {
     "data": {
      "text/plain": [
       "int"
      ]
     },
     "execution_count": 6,
     "metadata": {},
     "output_type": "execute_result"
    }
   ],
   "source": [
    "type(12 + 100)"
   ]
  },
  {
   "cell_type": "code",
   "execution_count": 5,
   "id": "da98127f",
   "metadata": {},
   "outputs": [
    {
     "data": {
      "text/plain": [
       "complex"
      ]
     },
     "execution_count": 5,
     "metadata": {},
     "output_type": "execute_result"
    }
   ],
   "source": [
    "type(12 + 3j) #j is the only letter than you can use to represent imaginary numbers"
   ]
  },
  {
   "cell_type": "markdown",
   "id": "749f2f0a",
   "metadata": {},
   "source": [
    "# Boolean Values\n"
   ]
  },
  {
   "cell_type": "code",
   "execution_count": 32,
   "id": "d45ac8b6",
   "metadata": {},
   "outputs": [
    {
     "data": {
      "text/plain": [
       "bool"
      ]
     },
     "execution_count": 32,
     "metadata": {},
     "output_type": "execute_result"
    }
   ],
   "source": [
    "type(True)\n",
    "type(1 > 5)"
   ]
  },
  {
   "cell_type": "code",
   "execution_count": 12,
   "id": "a118b0c9",
   "metadata": {},
   "outputs": [
    {
     "data": {
      "text/plain": [
       "True"
      ]
     },
     "execution_count": 12,
     "metadata": {},
     "output_type": "execute_result"
    }
   ],
   "source": [
    "1 == 1"
   ]
  },
  {
   "cell_type": "markdown",
   "id": "f67e1c99",
   "metadata": {},
   "source": [
    "# Strings"
   ]
  },
  {
   "cell_type": "code",
   "execution_count": 15,
   "id": "d41512a2",
   "metadata": {},
   "outputs": [
    {
     "data": {
      "text/plain": [
       "'Single Quote'"
      ]
     },
     "execution_count": 15,
     "metadata": {},
     "output_type": "execute_result"
    }
   ],
   "source": [
    "#Strings \n",
    "\n",
    "'Single Quote'"
   ]
  },
  {
   "cell_type": "code",
   "execution_count": 16,
   "id": "e09e2290",
   "metadata": {},
   "outputs": [
    {
     "data": {
      "text/plain": [
       "'Double Quote'"
      ]
     },
     "execution_count": 16,
     "metadata": {},
     "output_type": "execute_result"
    }
   ],
   "source": [
    "\"Double Quote\""
   ]
  },
  {
   "cell_type": "code",
   "execution_count": 20,
   "id": "1a10eb61",
   "metadata": {},
   "outputs": [],
   "source": [
    "multiline = \"\"\"\n",
    "The icecream vanquished\n",
    "my longing for sweets,\n",
    "upon this diet I look away, \n",
    "it no longer exists on this day.\n",
    "\n",
    "\"\"\""
   ]
  },
  {
   "cell_type": "code",
   "execution_count": 21,
   "id": "d66b572c",
   "metadata": {},
   "outputs": [
    {
     "name": "stdout",
     "output_type": "stream",
     "text": [
      "\n",
      "The icecream vanquished\n",
      "my longing for sweets,\n",
      "upon this diet I look away, \n",
      "it no longer exists on this day.\n",
      "\n",
      "\n"
     ]
    }
   ],
   "source": [
    "print(multiline)\n"
   ]
  },
  {
   "cell_type": "code",
   "execution_count": 26,
   "id": "6ef322d1",
   "metadata": {},
   "outputs": [
    {
     "data": {
      "text/plain": [
       "\"I've always wanted to eat a gallon of icecream.\""
      ]
     },
     "execution_count": 26,
     "metadata": {},
     "output_type": "execute_result"
    }
   ],
   "source": [
    "\"I've always wanted to eat a gallon of icecream.\"\n",
    "#If you want to use aphostrophes in your sentences, use double quotes to display\n",
    "#if you want to display double quotes, use multi-line"
   ]
  },
  {
   "cell_type": "code",
   "execution_count": 27,
   "id": "cc8b77d8",
   "metadata": {},
   "outputs": [],
   "source": [
    "a = 'Hello World'"
   ]
  },
  {
   "cell_type": "code",
   "execution_count": 30,
   "id": "6da06b6b",
   "metadata": {},
   "outputs": [
    {
     "name": "stdout",
     "output_type": "stream",
     "text": [
      "llo\n"
     ]
    }
   ],
   "source": [
    "print(a[2:5]);"
   ]
  },
  {
   "cell_type": "markdown",
   "id": "e46478f5",
   "metadata": {},
   "source": [
    "# Lists"
   ]
  },
  {
   "cell_type": "code",
   "execution_count": 33,
   "id": "5488e7fb",
   "metadata": {},
   "outputs": [
    {
     "data": {
      "text/plain": [
       "[1, 2, 3]"
      ]
     },
     "execution_count": 33,
     "metadata": {},
     "output_type": "execute_result"
    }
   ],
   "source": [
    "[1, 2, 3]"
   ]
  },
  {
   "cell_type": "code",
   "execution_count": 35,
   "id": "22d69c6e",
   "metadata": {},
   "outputs": [
    {
     "data": {
      "text/plain": [
       "['Cookie Dough', 'Strawberry', 'Chocolate']"
      ]
     },
     "execution_count": 35,
     "metadata": {},
     "output_type": "execute_result"
    }
   ],
   "source": [
    "[\"Cookie Dough\", \"Strawberry\", \"Chocolate\"]"
   ]
  },
  {
   "cell_type": "code",
   "execution_count": 36,
   "id": "5e66fa28",
   "metadata": {},
   "outputs": [
    {
     "data": {
      "text/plain": [
       "['Vanilla', 3, ['Scoops', 'Spoons'], True]"
      ]
     },
     "execution_count": 36,
     "metadata": {},
     "output_type": "execute_result"
    }
   ],
   "source": [
    "[\"Vanilla\", 3, [\"Scoops\", \"Spoons\"], True]"
   ]
  },
  {
   "cell_type": "code",
   "execution_count": 42,
   "id": "6ff6e7da",
   "metadata": {},
   "outputs": [
    {
     "data": {
      "text/plain": [
       "['Cookie Dough', 'Strawberry', 'Chocolate', 'Salted Caramel']"
      ]
     },
     "execution_count": 42,
     "metadata": {},
     "output_type": "execute_result"
    }
   ],
   "source": [
    "ice_cream = [\"Cookie Dough\", \"Strawberry\", \"Chocolate\"]\n",
    "ice_cream.append(\"Salted Caramel\")\n",
    "ice_cream"
   ]
  },
  {
   "cell_type": "code",
   "execution_count": 44,
   "id": "a584da0c",
   "metadata": {},
   "outputs": [],
   "source": [
    "ice_cream[0] = \"Butter Peacan\""
   ]
  },
  {
   "cell_type": "code",
   "execution_count": 45,
   "id": "f499d36f",
   "metadata": {},
   "outputs": [
    {
     "data": {
      "text/plain": [
       "['Butter Peacan', 'Strawberry', 'Chocolate', 'Salted Caramel']"
      ]
     },
     "execution_count": 45,
     "metadata": {},
     "output_type": "execute_result"
    }
   ],
   "source": [
    "ice_cream"
   ]
  },
  {
   "cell_type": "code",
   "execution_count": 46,
   "id": "bb123f01",
   "metadata": {},
   "outputs": [],
   "source": [
    "nested_list = [\"Vanilla\", 3, [\"Scoops\", \"Spoons\"], True]"
   ]
  },
  {
   "cell_type": "code",
   "execution_count": 49,
   "id": "4e680d07",
   "metadata": {},
   "outputs": [
    {
     "data": {
      "text/plain": [
       "'Spoons'"
      ]
     },
     "execution_count": 49,
     "metadata": {},
     "output_type": "execute_result"
    }
   ],
   "source": [
    "nested_list[2][1]"
   ]
  },
  {
   "cell_type": "markdown",
   "id": "b9f5b087",
   "metadata": {},
   "source": [
    "# Tuples"
   ]
  },
  {
   "cell_type": "code",
   "execution_count": 54,
   "id": "e30c2d18",
   "metadata": {},
   "outputs": [],
   "source": [
    "#These are immutable, meaning cannot be modified after being created."
   ]
  },
  {
   "cell_type": "code",
   "execution_count": 50,
   "id": "28b05c5f",
   "metadata": {},
   "outputs": [],
   "source": [
    "tuple_scoops = (1,2,3,2,1,)"
   ]
  },
  {
   "cell_type": "code",
   "execution_count": 51,
   "id": "ede04a20",
   "metadata": {},
   "outputs": [
    {
     "data": {
      "text/plain": [
       "tuple"
      ]
     },
     "execution_count": 51,
     "metadata": {},
     "output_type": "execute_result"
    }
   ],
   "source": [
    "type(tuple_scoops)"
   ]
  },
  {
   "cell_type": "code",
   "execution_count": 52,
   "id": "ac21926e",
   "metadata": {},
   "outputs": [
    {
     "data": {
      "text/plain": [
       "2"
      ]
     },
     "execution_count": 52,
     "metadata": {},
     "output_type": "execute_result"
    }
   ],
   "source": [
    "tuple_scoops[1]"
   ]
  },
  {
   "cell_type": "code",
   "execution_count": 53,
   "id": "357a2ae8",
   "metadata": {},
   "outputs": [
    {
     "ename": "AttributeError",
     "evalue": "'tuple' object has no attribute 'append'",
     "output_type": "error",
     "traceback": [
      "\u001b[0;31m---------------------------------------------------------------------------\u001b[0m",
      "\u001b[0;31mAttributeError\u001b[0m                            Traceback (most recent call last)",
      "Cell \u001b[0;32mIn[53], line 1\u001b[0m\n\u001b[0;32m----> 1\u001b[0m tuple_scoops\u001b[38;5;241m.\u001b[39mappend(\u001b[38;5;241m5\u001b[39m)\n",
      "\u001b[0;31mAttributeError\u001b[0m: 'tuple' object has no attribute 'append'"
     ]
    }
   ],
   "source": [
    "tuple_scoops.append(5)"
   ]
  },
  {
   "cell_type": "markdown",
   "id": "cb354b77",
   "metadata": {},
   "source": [
    "# Sets\n"
   ]
  },
  {
   "cell_type": "code",
   "execution_count": 56,
   "id": "0f6662b2",
   "metadata": {},
   "outputs": [],
   "source": [
    "#No duplicate elements, cannot be indexed"
   ]
  },
  {
   "cell_type": "code",
   "execution_count": 57,
   "id": "7402d54e",
   "metadata": {},
   "outputs": [],
   "source": [
    "daily_pints = {1, 2, 3}"
   ]
  },
  {
   "cell_type": "code",
   "execution_count": 58,
   "id": "64863a18",
   "metadata": {},
   "outputs": [
    {
     "data": {
      "text/plain": [
       "set"
      ]
     },
     "execution_count": 58,
     "metadata": {},
     "output_type": "execute_result"
    }
   ],
   "source": [
    "type(daily_pints)"
   ]
  },
  {
   "cell_type": "code",
   "execution_count": 61,
   "id": "9b326fb4",
   "metadata": {},
   "outputs": [],
   "source": [
    "daily_pints_log = {1, 2, 14, 123, 100, 12, 2, 3, 1, 3}"
   ]
  },
  {
   "cell_type": "code",
   "execution_count": 62,
   "id": "1f0520b1",
   "metadata": {},
   "outputs": [
    {
     "name": "stdout",
     "output_type": "stream",
     "text": [
      "{1, 2, 3, 100, 123, 12, 14}\n"
     ]
    }
   ],
   "source": [
    "print(daily_pints_log)"
   ]
  },
  {
   "cell_type": "code",
   "execution_count": 63,
   "id": "4b10a2c2",
   "metadata": {},
   "outputs": [],
   "source": [
    "wifes_daily_pints_log = {1, 3, 5, 7, 12, 50, 0,1}"
   ]
  },
  {
   "cell_type": "code",
   "execution_count": 70,
   "id": "8c4a72bb",
   "metadata": {},
   "outputs": [
    {
     "name": "stdout",
     "output_type": "stream",
     "text": [
      "{1, 3, 12}\n"
     ]
    }
   ],
   "source": [
    "print(daily_pints_log & wifes_daily_pints_log) #Shows you the similar values in both sets"
   ]
  },
  {
   "cell_type": "code",
   "execution_count": 69,
   "id": "20decdb1",
   "metadata": {},
   "outputs": [
    {
     "name": "stdout",
     "output_type": "stream",
     "text": [
      "{1, 2, 3, 100, 5, 7, 12, 14, 50, 123}\n"
     ]
    }
   ],
   "source": [
    "print(daily_pints_log | wifes_daily_pints_log) #Shows you the combined distinctive values in both sets"
   ]
  },
  {
   "cell_type": "code",
   "execution_count": 71,
   "id": "cfa57056",
   "metadata": {},
   "outputs": [
    {
     "name": "stdout",
     "output_type": "stream",
     "text": [
      "{2, 123, 100, 14}\n"
     ]
    }
   ],
   "source": [
    "print(daily_pints_log - wifes_daily_pints_log) #Shows you what doesn't match in both sets"
   ]
  },
  {
   "cell_type": "code",
   "execution_count": 72,
   "id": "898426db",
   "metadata": {},
   "outputs": [
    {
     "name": "stdout",
     "output_type": "stream",
     "text": [
      "{2, 100, 5, 7, 14, 50, 123}\n"
     ]
    }
   ],
   "source": [
    "print(daily_pints_log ^ wifes_daily_pints_log) #Shows you the values in one or the other but not in both"
   ]
  },
  {
   "cell_type": "markdown",
   "id": "7a960945",
   "metadata": {},
   "source": [
    "# Dictionaries"
   ]
  },
  {
   "cell_type": "code",
   "execution_count": 73,
   "id": "90c1ed04",
   "metadata": {},
   "outputs": [],
   "source": [
    "#Key/value pair"
   ]
  },
  {
   "cell_type": "code",
   "execution_count": 75,
   "id": "1a89f4b6",
   "metadata": {},
   "outputs": [],
   "source": [
    "dict_cream = {\"name\": \"Brandon Le\", 'weekly_intake': 5, \"favorite ice creams\": [\"MCC\", \"Oreo\", \"Orange\"]}"
   ]
  },
  {
   "cell_type": "code",
   "execution_count": 76,
   "id": "9536d67e",
   "metadata": {},
   "outputs": [
    {
     "data": {
      "text/plain": [
       "dict"
      ]
     },
     "execution_count": 76,
     "metadata": {},
     "output_type": "execute_result"
    }
   ],
   "source": [
    "type(dict_cream)"
   ]
  },
  {
   "cell_type": "code",
   "execution_count": 77,
   "id": "191522e2",
   "metadata": {},
   "outputs": [
    {
     "name": "stdout",
     "output_type": "stream",
     "text": [
      "{'name': 'Brandon Le', 'weekly_intake': 5, 'favorite ice creams': ['MCC', 'Oreo', 'Orange']}\n"
     ]
    }
   ],
   "source": [
    "print(dict_cream)"
   ]
  },
  {
   "cell_type": "code",
   "execution_count": 81,
   "id": "6b8e18b2",
   "metadata": {},
   "outputs": [
    {
     "data": {
      "text/plain": [
       "dict_values(['Brandon Le', 5, ['MCC', 'Oreo', 'Orange']])"
      ]
     },
     "execution_count": 81,
     "metadata": {},
     "output_type": "execute_result"
    }
   ],
   "source": [
    "dict_cream.values()"
   ]
  },
  {
   "cell_type": "code",
   "execution_count": 82,
   "id": "e8f3c2c2",
   "metadata": {},
   "outputs": [
    {
     "data": {
      "text/plain": [
       "dict_items([('name', 'Brandon Le'), ('weekly_intake', 5), ('favorite ice creams', ['MCC', 'Oreo', 'Orange'])])"
      ]
     },
     "execution_count": 82,
     "metadata": {},
     "output_type": "execute_result"
    }
   ],
   "source": [
    "dict_cream.items()"
   ]
  },
  {
   "cell_type": "code",
   "execution_count": 83,
   "id": "8f0c823d",
   "metadata": {},
   "outputs": [
    {
     "ename": "KeyError",
     "evalue": "0",
     "output_type": "error",
     "traceback": [
      "\u001b[0;31m---------------------------------------------------------------------------\u001b[0m",
      "\u001b[0;31mKeyError\u001b[0m                                  Traceback (most recent call last)",
      "Cell \u001b[0;32mIn[83], line 1\u001b[0m\n\u001b[0;32m----> 1\u001b[0m dict_cream[\u001b[38;5;241m0\u001b[39m]\n",
      "\u001b[0;31mKeyError\u001b[0m: 0"
     ]
    }
   ],
   "source": [
    "dict_cream[0]"
   ]
  },
  {
   "cell_type": "code",
   "execution_count": 85,
   "id": "51bce805",
   "metadata": {},
   "outputs": [
    {
     "data": {
      "text/plain": [
       "'Brandon Le'"
      ]
     },
     "execution_count": 85,
     "metadata": {},
     "output_type": "execute_result"
    }
   ],
   "source": [
    "dict_cream['name']"
   ]
  },
  {
   "cell_type": "code",
   "execution_count": 86,
   "id": "7ed2aad5",
   "metadata": {},
   "outputs": [],
   "source": [
    "dict_cream['name'] = \"Hanjoo Pak\""
   ]
  },
  {
   "cell_type": "code",
   "execution_count": 88,
   "id": "d1a2139b",
   "metadata": {},
   "outputs": [
    {
     "name": "stdout",
     "output_type": "stream",
     "text": [
      "{'name': 'Hanjoo Pak', 'weekly_intake': 5, 'favorite ice creams': ['MCC', 'Oreo', 'Orange']}\n"
     ]
    }
   ],
   "source": [
    "print(dict_cream)"
   ]
  },
  {
   "cell_type": "code",
   "execution_count": 92,
   "id": "3585ff83",
   "metadata": {},
   "outputs": [],
   "source": [
    "dict_cream.update({'name': 'Hanjoo Pak', 'weekly_intake': 5, 'favorite ice creams': ['MCC', 'Oreo', 'Orange'], \"weight\": 100})"
   ]
  },
  {
   "cell_type": "code",
   "execution_count": 93,
   "id": "e7ce0b87",
   "metadata": {},
   "outputs": [
    {
     "name": "stdout",
     "output_type": "stream",
     "text": [
      "{'name': 'Hanjoo Pak', 'weekly_intake': 5, 'favorite ice creams': ['MCC', 'Oreo', 'Orange'], 'weight': 100}\n"
     ]
    }
   ],
   "source": [
    "print(dict_cream)"
   ]
  },
  {
   "cell_type": "code",
   "execution_count": 94,
   "id": "3fbb460c",
   "metadata": {},
   "outputs": [],
   "source": [
    "del dict_cream[\"weight\"]"
   ]
  },
  {
   "cell_type": "code",
   "execution_count": 95,
   "id": "33b29747",
   "metadata": {},
   "outputs": [
    {
     "name": "stdout",
     "output_type": "stream",
     "text": [
      "{'name': 'Hanjoo Pak', 'weekly_intake': 5, 'favorite ice creams': ['MCC', 'Oreo', 'Orange']}\n"
     ]
    }
   ],
   "source": [
    "print(dict_cream)"
   ]
  }
 ],
 "metadata": {
  "kernelspec": {
   "display_name": "Python 3 (ipykernel)",
   "language": "python",
   "name": "python3"
  },
  "language_info": {
   "codemirror_mode": {
    "name": "ipython",
    "version": 3
   },
   "file_extension": ".py",
   "mimetype": "text/x-python",
   "name": "python",
   "nbconvert_exporter": "python",
   "pygments_lexer": "ipython3",
   "version": "3.11.4"
  }
 },
 "nbformat": 4,
 "nbformat_minor": 5
}
