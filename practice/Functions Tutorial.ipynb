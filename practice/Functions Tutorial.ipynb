{
 "cells": [
  {
   "cell_type": "markdown",
   "id": "ffb9fd49",
   "metadata": {},
   "source": [
    "# Functions\n"
   ]
  },
  {
   "cell_type": "code",
   "execution_count": 1,
   "id": "fa581371",
   "metadata": {},
   "outputs": [],
   "source": [
    "def first_function():\n",
    "    print(\"We did it!\")"
   ]
  },
  {
   "cell_type": "code",
   "execution_count": 2,
   "id": "db3b3e0f",
   "metadata": {},
   "outputs": [
    {
     "name": "stdout",
     "output_type": "stream",
     "text": [
      "We did it!\n"
     ]
    }
   ],
   "source": [
    "first_function()\n"
   ]
  },
  {
   "cell_type": "code",
   "execution_count": 6,
   "id": "3800121d",
   "metadata": {},
   "outputs": [],
   "source": [
    "def number_squared(number):\n",
    "    print(number ** 2)"
   ]
  },
  {
   "cell_type": "code",
   "execution_count": 7,
   "id": "553acc78",
   "metadata": {},
   "outputs": [
    {
     "name": "stdout",
     "output_type": "stream",
     "text": [
      "100\n"
     ]
    }
   ],
   "source": [
    "number_squared(10)"
   ]
  },
  {
   "cell_type": "code",
   "execution_count": 8,
   "id": "a565e397",
   "metadata": {},
   "outputs": [],
   "source": [
    "def number_power(number,power):\n",
    "    print(number ** power)"
   ]
  },
  {
   "cell_type": "code",
   "execution_count": 10,
   "id": "a92f067b",
   "metadata": {},
   "outputs": [
    {
     "name": "stdout",
     "output_type": "stream",
     "text": [
      "125\n"
     ]
    }
   ],
   "source": [
    "number_power(5, 3)"
   ]
  },
  {
   "cell_type": "code",
   "execution_count": 19,
   "id": "8fe05c7d",
   "metadata": {},
   "outputs": [],
   "source": [
    "args_tuple = (5, 6, 1, 2,8)\n",
    "\n",
    "def number_args(*number): #This allows you to work with unknown amount of parameters\n",
    "    print(number[0] * number[1]) "
   ]
  },
  {
   "cell_type": "code",
   "execution_count": 21,
   "id": "08772147",
   "metadata": {},
   "outputs": [
    {
     "name": "stdout",
     "output_type": "stream",
     "text": [
      "30\n"
     ]
    }
   ],
   "source": [
    "number_args(*args_tuple) # This just multiplies 5 and 6 and you have to put a star in front of it in order for it to work"
   ]
  },
  {
   "cell_type": "code",
   "execution_count": null,
   "id": "4c3f738c",
   "metadata": {},
   "outputs": [],
   "source": [
    "def number_squared(number,power):\n",
    "    print(number ** 2)"
   ]
  },
  {
   "cell_type": "code",
   "execution_count": 26,
   "id": "44631a85",
   "metadata": {},
   "outputs": [
    {
     "name": "stdout",
     "output_type": "stream",
     "text": [
      "243\n"
     ]
    }
   ],
   "source": [
    "number_power(power=5, number=3) #This allows for you to have more control of the parameter assignments using keywords"
   ]
  },
  {
   "cell_type": "code",
   "execution_count": 38,
   "id": "4e658ea5",
   "metadata": {},
   "outputs": [],
   "source": [
    "def number_kwarg(**number): #This is using keywords like from the line above and arbitrary parameters\n",
    "    print(\"My number is: \" + number['integer'] + \". My other number is: \" + number['integer2'])"
   ]
  },
  {
   "cell_type": "code",
   "execution_count": 39,
   "id": "09ebca19",
   "metadata": {},
   "outputs": [
    {
     "name": "stdout",
     "output_type": "stream",
     "text": [
      "My number is: 2309. My other number is: 349 \n"
     ]
    }
   ],
   "source": [
    "number_kwarg(integer='2309', integer2='349 ')"
   ]
  },
  {
   "cell_type": "code",
   "execution_count": null,
   "id": "db5251ac",
   "metadata": {},
   "outputs": [],
   "source": []
  },
  {
   "cell_type": "code",
   "execution_count": null,
   "id": "f6addc8a",
   "metadata": {},
   "outputs": [],
   "source": []
  },
  {
   "cell_type": "code",
   "execution_count": null,
   "id": "c1cd6864",
   "metadata": {},
   "outputs": [],
   "source": []
  }
 ],
 "metadata": {
  "kernelspec": {
   "display_name": "Python 3 (ipykernel)",
   "language": "python",
   "name": "python3"
  },
  "language_info": {
   "codemirror_mode": {
    "name": "ipython",
    "version": 3
   },
   "file_extension": ".py",
   "mimetype": "text/x-python",
   "name": "python",
   "nbconvert_exporter": "python",
   "pygments_lexer": "ipython3",
   "version": "3.11.4"
  }
 },
 "nbformat": 4,
 "nbformat_minor": 5
}
