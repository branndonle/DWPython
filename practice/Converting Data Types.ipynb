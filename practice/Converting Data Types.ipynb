{
 "cells": [
  {
   "cell_type": "markdown",
   "id": "3accaed6",
   "metadata": {},
   "source": [
    "# Converting Data Types\n"
   ]
  },
  {
   "cell_type": "markdown",
   "id": "cb74d38f",
   "metadata": {},
   "source": [
    "## String to Int"
   ]
  },
  {
   "cell_type": "code",
   "execution_count": 1,
   "id": "323d7018",
   "metadata": {},
   "outputs": [
    {
     "data": {
      "text/plain": [
       "int"
      ]
     },
     "execution_count": 1,
     "metadata": {},
     "output_type": "execute_result"
    }
   ],
   "source": [
    "num_int = 7\n",
    "type(num_int)"
   ]
  },
  {
   "cell_type": "code",
   "execution_count": 3,
   "id": "e417d22a",
   "metadata": {},
   "outputs": [
    {
     "data": {
      "text/plain": [
       "str"
      ]
     },
     "execution_count": 3,
     "metadata": {},
     "output_type": "execute_result"
    }
   ],
   "source": [
    "num_str = \"7\"\n",
    "\n",
    "type(num_string)"
   ]
  },
  {
   "cell_type": "code",
   "execution_count": 9,
   "id": "a376e50a",
   "metadata": {},
   "outputs": [
    {
     "data": {
      "text/plain": [
       "int"
      ]
     },
     "execution_count": 9,
     "metadata": {},
     "output_type": "execute_result"
    }
   ],
   "source": [
    "num_str_converted = int(num_str)\n",
    "\n",
    "type(num_str_converted)"
   ]
  },
  {
   "cell_type": "code",
   "execution_count": 10,
   "id": "6da7dcdc",
   "metadata": {},
   "outputs": [
    {
     "name": "stdout",
     "output_type": "stream",
     "text": [
      "14\n"
     ]
    }
   ],
   "source": [
    "num_sum = num_int + num_str_converted\n",
    "\n",
    "print(num_sum)"
   ]
  },
  {
   "cell_type": "markdown",
   "id": "2da6559c",
   "metadata": {},
   "source": [
    "## Converting Lists, Sets, and Tuples"
   ]
  },
  {
   "cell_type": "code",
   "execution_count": 13,
   "id": "1c4cc1cd",
   "metadata": {},
   "outputs": [
    {
     "data": {
      "text/plain": [
       "list"
      ]
     },
     "execution_count": 13,
     "metadata": {},
     "output_type": "execute_result"
    }
   ],
   "source": [
    "list_type = [1,2,3]\n",
    "\n",
    "type(list_type)"
   ]
  },
  {
   "cell_type": "code",
   "execution_count": null,
   "id": "fc9fc1b8",
   "metadata": {},
   "outputs": [],
   "source": [
    "list_type = [1,2,3]\n",
    "\n",
    "type(list_type)"
   ]
  },
  {
   "cell_type": "code",
   "execution_count": 17,
   "id": "a1887bfc",
   "metadata": {},
   "outputs": [
    {
     "data": {
      "text/plain": [
       "(1, 2, 3)"
      ]
     },
     "execution_count": 17,
     "metadata": {},
     "output_type": "execute_result"
    }
   ],
   "source": [
    "#Convert a list to a tuple by:\n",
    "\n",
    "tuple(list_type)\n"
   ]
  },
  {
   "cell_type": "code",
   "execution_count": 18,
   "id": "449f8016",
   "metadata": {},
   "outputs": [
    {
     "data": {
      "text/plain": [
       "tuple"
      ]
     },
     "execution_count": 18,
     "metadata": {},
     "output_type": "execute_result"
    }
   ],
   "source": [
    "type(tuple(list_type))"
   ]
  },
  {
   "cell_type": "code",
   "execution_count": 23,
   "id": "7dcf20da",
   "metadata": {},
   "outputs": [],
   "source": [
    "#Converting a list into set but it might change the values within it, like if you had duplicate values it removes them\n",
    "\n",
    "list_type = [1,2,3,1,2,3,3,2,1,2,3,1,2,3]"
   ]
  },
  {
   "cell_type": "code",
   "execution_count": 24,
   "id": "cc542212",
   "metadata": {},
   "outputs": [
    {
     "data": {
      "text/plain": [
       "{1, 2, 3}"
      ]
     },
     "execution_count": 24,
     "metadata": {},
     "output_type": "execute_result"
    }
   ],
   "source": [
    "set(list_type)"
   ]
  },
  {
   "cell_type": "code",
   "execution_count": 26,
   "id": "70ef61a7",
   "metadata": {},
   "outputs": [
    {
     "data": {
      "text/plain": [
       "dict"
      ]
     },
     "execution_count": 26,
     "metadata": {},
     "output_type": "execute_result"
    }
   ],
   "source": [
    "dict_type = {'name': 'Brandon Le', 'age': 24, 'hair': 'dark brown'}\n",
    "\n",
    "type(dict_type)"
   ]
  },
  {
   "cell_type": "code",
   "execution_count": 27,
   "id": "bec50cc5",
   "metadata": {},
   "outputs": [
    {
     "data": {
      "text/plain": [
       "dict_items([('name', 'Brandon Le'), ('age', 24), ('hair', 'dark brown')])"
      ]
     },
     "execution_count": 27,
     "metadata": {},
     "output_type": "execute_result"
    }
   ],
   "source": [
    "dict_type.items()"
   ]
  },
  {
   "cell_type": "code",
   "execution_count": 28,
   "id": "be7d2d66",
   "metadata": {},
   "outputs": [
    {
     "data": {
      "text/plain": [
       "dict_values(['Brandon Le', 24, 'dark brown'])"
      ]
     },
     "execution_count": 28,
     "metadata": {},
     "output_type": "execute_result"
    }
   ],
   "source": [
    "dict_type.values()"
   ]
  },
  {
   "cell_type": "code",
   "execution_count": 39,
   "id": "43192777",
   "metadata": {},
   "outputs": [
    {
     "data": {
      "text/plain": [
       "dict_keys(['name', 'age', 'hair'])"
      ]
     },
     "execution_count": 39,
     "metadata": {},
     "output_type": "execute_result"
    }
   ],
   "source": [
    "dict_type.keys()"
   ]
  },
  {
   "cell_type": "code",
   "execution_count": 41,
   "id": "017f9b19",
   "metadata": {},
   "outputs": [
    {
     "data": {
      "text/plain": [
       "['Brandon Le', 24, 'dark brown']"
      ]
     },
     "execution_count": 41,
     "metadata": {},
     "output_type": "execute_result"
    }
   ],
   "source": [
    "list(dict_type.values())"
   ]
  },
  {
   "cell_type": "code",
   "execution_count": 40,
   "id": "2d43d4fb",
   "metadata": {},
   "outputs": [
    {
     "data": {
      "text/plain": [
       "['name', 'age', 'hair']"
      ]
     },
     "execution_count": 40,
     "metadata": {},
     "output_type": "execute_result"
    }
   ],
   "source": [
    "list(dict_type.keys())"
   ]
  },
  {
   "cell_type": "markdown",
   "id": "3fa73572",
   "metadata": {},
   "source": [
    "## Converting Strings to lists/sets"
   ]
  },
  {
   "cell_type": "code",
   "execution_count": null,
   "id": "b744c231",
   "metadata": {},
   "outputs": [],
   "source": [
    "long_str = \"I like to party\""
   ]
  },
  {
   "cell_type": "code",
   "execution_count": 37,
   "id": "a79f95d3",
   "metadata": {},
   "outputs": [
    {
     "data": {
      "text/plain": [
       "['I', ' ', 'l', 'i', 'k', 'e', ' ', 't', 'o', ' ', 'p', 'a', 'r', 't', 'y']"
      ]
     },
     "execution_count": 37,
     "metadata": {},
     "output_type": "execute_result"
    }
   ],
   "source": [
    "list(long_str)"
   ]
  },
  {
   "cell_type": "code",
   "execution_count": 38,
   "id": "dd6fedd7",
   "metadata": {},
   "outputs": [
    {
     "data": {
      "text/plain": [
       "{' ', 'I', 'a', 'e', 'i', 'k', 'l', 'o', 'p', 'r', 't', 'y'}"
      ]
     },
     "execution_count": 38,
     "metadata": {},
     "output_type": "execute_result"
    }
   ],
   "source": [
    "set(long_str)"
   ]
  }
 ],
 "metadata": {
  "kernelspec": {
   "display_name": "Python 3 (ipykernel)",
   "language": "python",
   "name": "python3"
  },
  "language_info": {
   "codemirror_mode": {
    "name": "ipython",
    "version": 3
   },
   "file_extension": ".py",
   "mimetype": "text/x-python",
   "name": "python",
   "nbconvert_exporter": "python",
   "pygments_lexer": "ipython3",
   "version": "3.11.4"
  }
 },
 "nbformat": 4,
 "nbformat_minor": 5
}
