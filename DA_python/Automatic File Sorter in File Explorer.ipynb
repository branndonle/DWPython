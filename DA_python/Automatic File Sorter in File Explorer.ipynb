{
 "cells": [
  {
   "cell_type": "code",
   "execution_count": 32,
   "id": "b668f410",
   "metadata": {},
   "outputs": [],
   "source": [
    "import os, shutil"
   ]
  },
  {
   "cell_type": "code",
   "execution_count": 33,
   "id": "ba398973",
   "metadata": {},
   "outputs": [],
   "source": [
    "path = r\"/Users/brandonle/Downloads/automatic_file_sorter/\""
   ]
  },
  {
   "cell_type": "code",
   "execution_count": 34,
   "id": "909e45a5",
   "metadata": {},
   "outputs": [],
   "source": [
    "file_names = os.listdir(path)"
   ]
  },
  {
   "cell_type": "code",
   "execution_count": 35,
   "id": "c72a2840",
   "metadata": {},
   "outputs": [
    {
     "name": "stdout",
     "output_type": "stream",
     "text": [
      "/Users/brandonle/Downloads/automatic_file_sorter/csv_files\n",
      "/Users/brandonle/Downloads/automatic_file_sorter/image_files\n",
      "/Users/brandonle/Downloads/automatic_file_sorter/pdf_files\n",
      "/Users/brandonle/Downloads/automatic_file_sorter/sql_files\n"
     ]
    }
   ],
   "source": [
    "folder_files = ['csv_files', 'image_files', 'pdf_files', 'sql_files']\n",
    "for loop in range(0, 4):\n",
    "    if not os.path.exists(path + folder_files[loop]):\n",
    "        print(path + folder_files[loop])\n",
    "        os.makedirs(path + folder_files[loop])"
   ]
  },
  {
   "cell_type": "code",
   "execution_count": 36,
   "id": "0edd878f",
   "metadata": {},
   "outputs": [],
   "source": [
    "for file in file_names:\n",
    "    if \".xlsx\" in file and not os.path.exists(path + \"/csv_files/\" + file):\n",
    "        shutil.move(path + file, path + \"/csv_files/\" + file)\n",
    "    elif \".HEIC\" in file and not os.path.exists(path + \"/image_files/\" + file):\n",
    "        shutil.move(path + file, path + \"/image_files/\" + file)\n",
    "    elif \".pdf\" in file and not os.path.exists(path + \"/pdf_files/\" + file):\n",
    "        shutil.move(path + file, path + \"/pdf_files/\" + file)\n",
    "    elif \".sql\" in file and not os.path.exists(path + \"/sql_files/\" + file):\n",
    "        shutil.move(path + file, path + \"/sql_files/\" + file)\n"
   ]
  },
  {
   "cell_type": "code",
   "execution_count": null,
   "id": "99aef2f3",
   "metadata": {},
   "outputs": [],
   "source": []
  },
  {
   "cell_type": "code",
   "execution_count": null,
   "id": "aa81ac7f",
   "metadata": {},
   "outputs": [],
   "source": []
  },
  {
   "cell_type": "code",
   "execution_count": null,
   "id": "56df4ad0",
   "metadata": {},
   "outputs": [],
   "source": []
  },
  {
   "cell_type": "code",
   "execution_count": null,
   "id": "893dffe9",
   "metadata": {},
   "outputs": [],
   "source": []
  },
  {
   "cell_type": "code",
   "execution_count": null,
   "id": "eba0c140",
   "metadata": {},
   "outputs": [],
   "source": []
  },
  {
   "cell_type": "code",
   "execution_count": null,
   "id": "24f0b47d",
   "metadata": {},
   "outputs": [],
   "source": []
  },
  {
   "cell_type": "code",
   "execution_count": null,
   "id": "74f6f9c4",
   "metadata": {},
   "outputs": [],
   "source": []
  },
  {
   "cell_type": "code",
   "execution_count": null,
   "id": "e41c5f21",
   "metadata": {},
   "outputs": [],
   "source": []
  },
  {
   "cell_type": "code",
   "execution_count": null,
   "id": "b3e09549",
   "metadata": {},
   "outputs": [],
   "source": []
  },
  {
   "cell_type": "code",
   "execution_count": null,
   "id": "8f2e7976",
   "metadata": {},
   "outputs": [],
   "source": []
  },
  {
   "cell_type": "code",
   "execution_count": null,
   "id": "b974df51",
   "metadata": {},
   "outputs": [],
   "source": []
  },
  {
   "cell_type": "code",
   "execution_count": null,
   "id": "316c7093",
   "metadata": {},
   "outputs": [],
   "source": []
  }
 ],
 "metadata": {
  "kernelspec": {
   "display_name": "Python 3 (ipykernel)",
   "language": "python",
   "name": "python3"
  },
  "language_info": {
   "codemirror_mode": {
    "name": "ipython",
    "version": 3
   },
   "file_extension": ".py",
   "mimetype": "text/x-python",
   "name": "python",
   "nbconvert_exporter": "python",
   "pygments_lexer": "ipython3",
   "version": "3.11.4"
  }
 },
 "nbformat": 4,
 "nbformat_minor": 5
}
